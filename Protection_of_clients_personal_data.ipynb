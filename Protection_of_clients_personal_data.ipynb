{
 "cells": [
  {
   "cell_type": "markdown",
   "metadata": {
    "toc": true
   },
   "source": [
    "<h1>Содержание<span class=\"tocSkip\"></span></h1>\n",
    "<div class=\"toc\"><ul class=\"toc-item\"><li><ul class=\"toc-item\"><li><span><a href=\"#Импорт-библиотек-⬇\" data-toc-modified-id=\"Импорт-библиотек-⬇-0.1\"><span class=\"toc-item-num\">0.1&nbsp;&nbsp;</span>Импорт библиотек ⬇</a></span></li></ul></li><li><span><a href=\"#Загрузка-данных\" data-toc-modified-id=\"Загрузка-данных-1\"><span class=\"toc-item-num\">1&nbsp;&nbsp;</span>Загрузка данных</a></span><ul class=\"toc-item\"><li><span><a href=\"#Проверим,-обратима-ли-матрица\" data-toc-modified-id=\"Проверим,-обратима-ли-матрица-1.1\"><span class=\"toc-item-num\">1.1&nbsp;&nbsp;</span>Проверим, обратима ли матрица</a></span></li><li><span><a href=\"#r2-для-матрицы-признаков\" data-toc-modified-id=\"r2-для-матрицы-признаков-1.2\"><span class=\"toc-item-num\">1.2&nbsp;&nbsp;</span>r2 для матрицы признаков</a></span></li><li><span><a href=\"#r2-для-x-*-Inv\" data-toc-modified-id=\"r2-для-x-*-Inv-1.3\"><span class=\"toc-item-num\">1.3&nbsp;&nbsp;</span>r2 для x * Inv</a></span></li></ul></li><li><span><a href=\"#Умножение-матриц\" data-toc-modified-id=\"Умножение-матриц-2\"><span class=\"toc-item-num\">2&nbsp;&nbsp;</span>Умножение матриц</a></span></li><li><span><a href=\"#Алгоритм-преобразования\" data-toc-modified-id=\"Алгоритм-преобразования-3\"><span class=\"toc-item-num\">3&nbsp;&nbsp;</span>Алгоритм преобразования</a></span></li><li><span><a href=\"#Проверка-алгоритма\" data-toc-modified-id=\"Проверка-алгоритма-4\"><span class=\"toc-item-num\">4&nbsp;&nbsp;</span>Проверка алгоритма</a></span><ul class=\"toc-item\"><li><span><a href=\"#Меняем-данные\" data-toc-modified-id=\"Меняем-данные-4.1\"><span class=\"toc-item-num\">4.1&nbsp;&nbsp;</span>Меняем данные</a></span></li></ul></li><li><span><a href=\"#Вывод:\" data-toc-modified-id=\"Вывод:-5\"><span class=\"toc-item-num\">5&nbsp;&nbsp;</span>Вывод:</a></span></li><li><span><a href=\"#Чек-лист-проверки\" data-toc-modified-id=\"Чек-лист-проверки-6\"><span class=\"toc-item-num\">6&nbsp;&nbsp;</span>Чек-лист проверки</a></span></li></ul></div>"
   ]
  },
  {
   "cell_type": "markdown",
   "metadata": {},
   "source": [
    "# Защита персональных данных клиентов"
   ]
  },
  {
   "cell_type": "markdown",
   "metadata": {},
   "source": [
    "Вам нужно защитить данные клиентов страховой компании «Хоть потоп». Разработайте такой метод преобразования данных, чтобы по ним было сложно восстановить персональную информацию. Обоснуйте корректность его работы.\n",
    "\n",
    "Нужно защитить данные, чтобы при преобразовании качество моделей машинного обучения не ухудшилось. Подбирать наилучшую модель не требуется."
   ]
  },
  {
   "cell_type": "markdown",
   "metadata": {},
   "source": [
    "### Импорт библиотек ⬇"
   ]
  },
  {
   "cell_type": "code",
   "execution_count": 1,
   "metadata": {},
   "outputs": [],
   "source": [
    "import pandas as pd\n",
    "import numpy as np\n",
    "from sklearn.linear_model import LinearRegression"
   ]
  },
  {
   "cell_type": "markdown",
   "metadata": {},
   "source": [
    "## Загрузка данных"
   ]
  },
  {
   "cell_type": "code",
   "execution_count": 2,
   "metadata": {},
   "outputs": [
    {
     "data": {
      "text/html": [
       "<div>\n",
       "<style scoped>\n",
       "    .dataframe tbody tr th:only-of-type {\n",
       "        vertical-align: middle;\n",
       "    }\n",
       "\n",
       "    .dataframe tbody tr th {\n",
       "        vertical-align: top;\n",
       "    }\n",
       "\n",
       "    .dataframe thead th {\n",
       "        text-align: right;\n",
       "    }\n",
       "</style>\n",
       "<table border=\"1\" class=\"dataframe\">\n",
       "  <thead>\n",
       "    <tr style=\"text-align: right;\">\n",
       "      <th></th>\n",
       "      <th>Пол</th>\n",
       "      <th>Возраст</th>\n",
       "      <th>Зарплата</th>\n",
       "      <th>Члены семьи</th>\n",
       "      <th>Страховые выплаты</th>\n",
       "    </tr>\n",
       "  </thead>\n",
       "  <tbody>\n",
       "    <tr>\n",
       "      <th>0</th>\n",
       "      <td>1</td>\n",
       "      <td>41.0</td>\n",
       "      <td>49600.0</td>\n",
       "      <td>1</td>\n",
       "      <td>0</td>\n",
       "    </tr>\n",
       "    <tr>\n",
       "      <th>1</th>\n",
       "      <td>0</td>\n",
       "      <td>46.0</td>\n",
       "      <td>38000.0</td>\n",
       "      <td>1</td>\n",
       "      <td>1</td>\n",
       "    </tr>\n",
       "    <tr>\n",
       "      <th>2</th>\n",
       "      <td>0</td>\n",
       "      <td>29.0</td>\n",
       "      <td>21000.0</td>\n",
       "      <td>0</td>\n",
       "      <td>0</td>\n",
       "    </tr>\n",
       "    <tr>\n",
       "      <th>3</th>\n",
       "      <td>0</td>\n",
       "      <td>21.0</td>\n",
       "      <td>41700.0</td>\n",
       "      <td>2</td>\n",
       "      <td>0</td>\n",
       "    </tr>\n",
       "    <tr>\n",
       "      <th>4</th>\n",
       "      <td>1</td>\n",
       "      <td>28.0</td>\n",
       "      <td>26100.0</td>\n",
       "      <td>0</td>\n",
       "      <td>0</td>\n",
       "    </tr>\n",
       "  </tbody>\n",
       "</table>\n",
       "</div>"
      ],
      "text/plain": [
       "   Пол  Возраст  Зарплата  Члены семьи  Страховые выплаты\n",
       "0    1     41.0   49600.0            1                  0\n",
       "1    0     46.0   38000.0            1                  1\n",
       "2    0     29.0   21000.0            0                  0\n",
       "3    0     21.0   41700.0            2                  0\n",
       "4    1     28.0   26100.0            0                  0"
      ]
     },
     "execution_count": 2,
     "metadata": {},
     "output_type": "execute_result"
    }
   ],
   "source": [
    "df = pd.read_csv(\"/datasets/insurance.csv\")\n",
    "\n",
    "df.head()"
   ]
  },
  {
   "cell_type": "code",
   "execution_count": 3,
   "metadata": {},
   "outputs": [
    {
     "data": {
      "text/plain": [
       "((5000, 4), (5000,))"
      ]
     },
     "execution_count": 3,
     "metadata": {},
     "output_type": "execute_result"
    }
   ],
   "source": [
    "X = df.drop(\"Страховые выплаты\", axis=1)\n",
    "y = df[\"Страховые выплаты\"]\n",
    "\n",
    "X.shape, y.shape"
   ]
  },
  {
   "cell_type": "markdown",
   "metadata": {},
   "source": [
    "### Проверим, обратима ли матрица"
   ]
  },
  {
   "cell_type": "code",
   "execution_count": 4,
   "metadata": {},
   "outputs": [
    {
     "data": {
      "text/plain": [
       "array([[  0.38857416, -12.68385446,  11.41082182,   0.94392518],\n",
       "       [ -1.75542833,  12.9128015 ,  -9.3046328 ,  -0.51711199],\n",
       "       [  0.98152143,  14.82308331, -12.51643337,  -2.3053907 ],\n",
       "       [ -0.20387498,  -2.98658344,   1.53462307,   1.69210474]])"
      ]
     },
     "execution_count": 4,
     "metadata": {},
     "output_type": "execute_result"
    }
   ],
   "source": [
    "INV = np.random.rand(4,4)\n",
    "\n",
    "np.linalg.inv(INV)"
   ]
  },
  {
   "cell_type": "code",
   "execution_count": 5,
   "metadata": {},
   "outputs": [],
   "source": [
    "def predict_and_r2_score(x, y):\n",
    "    lr = LinearRegression()\n",
    "    lr.fit(x, y)\n",
    "    r2 = lr.score(x, y)\n",
    "    return r2"
   ]
  },
  {
   "cell_type": "markdown",
   "metadata": {},
   "source": [
    "### r2 для матрицы признаков"
   ]
  },
  {
   "cell_type": "code",
   "execution_count": 6,
   "metadata": {},
   "outputs": [
    {
     "data": {
      "text/plain": [
       "0.4249455028666801"
      ]
     },
     "execution_count": 6,
     "metadata": {},
     "output_type": "execute_result"
    }
   ],
   "source": [
    "predict_and_r2_score(X, y)"
   ]
  },
  {
   "cell_type": "markdown",
   "metadata": {},
   "source": [
    "### r2 для x * Inv"
   ]
  },
  {
   "cell_type": "code",
   "execution_count": 7,
   "metadata": {},
   "outputs": [
    {
     "data": {
      "text/plain": [
       "0.42494550286671906"
      ]
     },
     "execution_count": 7,
     "metadata": {},
     "output_type": "execute_result"
    }
   ],
   "source": [
    "X_inv = X @ INV\n",
    "predict_and_r2_score(X_inv, y)"
   ]
  },
  {
   "cell_type": "markdown",
   "metadata": {},
   "source": [
    "    Качество лин. регрессии не меняется при умножении матрицы признаков nxk справа на квадратную обратимую матрицу kxk"
   ]
  },
  {
   "cell_type": "markdown",
   "metadata": {},
   "source": [
    "## Умножение матриц"
   ]
  },
  {
   "cell_type": "markdown",
   "metadata": {},
   "source": [
    "В этом задании вы можете записывать формулы в *Jupyter Notebook.*\n",
    "\n",
    "Чтобы записать формулу внутри текста, окружите её символами доллара \\\\$; если снаружи —  двойными символами \\\\$\\\\$. Эти формулы записываются на языке вёрстки *LaTeX.* \n",
    "\n",
    "Для примера мы записали формулы линейной регрессии. Можете их скопировать и отредактировать, чтобы решить задачу.\n",
    "\n",
    "Работать в *LaTeX* необязательно."
   ]
  },
  {
   "cell_type": "markdown",
   "metadata": {},
   "source": [
    "Обозначения:\n",
    "\n",
    "- $X$ — матрица признаков (нулевой столбец состоит из единиц)\n",
    "\n",
    "- $y$ — вектор целевого признака\n",
    "\n",
    "- $P$ — матрица, на которую умножаются признаки\n",
    "\n",
    "- $w$ — вектор весов линейной регрессии (нулевой элемент равен сдвигу)"
   ]
  },
  {
   "cell_type": "markdown",
   "metadata": {},
   "source": [
    "Предсказания:\n",
    "\n",
    "$$\n",
    "a = Xw\n",
    "$$\n",
    "\n",
    "Задача обучения:\n",
    "\n",
    "$$\n",
    "w = \\arg\\min_w MSE(Xw, y)\n",
    "$$\n",
    "\n",
    "Формула обучения:\n",
    "\n",
    "$$\n",
    "w = (X^T X)^{-1} X^T y\n",
    "$$"
   ]
  },
  {
   "cell_type": "markdown",
   "metadata": {},
   "source": [
    "**Вопрос:** Признаки умножают на обратимую матрицу. Изменится ли качество линейной регрессии?\n",
    "\n",
    "**Ответ:** не изменится."
   ]
  },
  {
   "cell_type": "markdown",
   "metadata": {},
   "source": [
    "Заменим матрицу $X$ на матрицу $V$:\n",
    "$$ V=XP $$\n",
    "\n",
    "$$ a=Vw $$\n",
    "\n",
    "$$ w = (V^T V)^{-1} V^T y $$\n",
    "\n",
    "Подставим $w$ к $a$:\n",
    "$$ a=V(V^TV)^{-1}V^Ty $$\n",
    "\n",
    "Обратно заменим все $V$:\n",
    "$$ a=XP((XP)^T(XP))^{-1}(XP)^Ty $$\n",
    "\n",
    "Раскроем $((XP)^T(XP))^{-1}$ в два шага:\n",
    "$$ a=XP((XP)^T(XP))^{-1}(XP)^Ty=XP(XP)^{-1}((XP)^T)^{-1}(XP)^Ty=XPP^{-1}X^{-1}((XP)^T)^{-1}(XP)^Ty $$\n",
    "Умножение приведёт к $PP^{-1}=E$\n",
    "\n",
    "Умножение на единичную матрицу ничего не меняет. Раскроем $((XP)^T)^{-1}(XP)^T$ в три шага:\n",
    "$$ a=XEX^{-1}((XP)^T)^{-1}(XP)^Ty=XX^{-1}(P^TX^T)^{-1}P^TX^Ty=XX^{-1}(X^T)^{-1}(P^T)^{-1}P^TX^Ty $$\n",
    "\n",
    "Умножение приведёт к $(P^T)^{-1}P^T=E$. Посмотрим, что осталось от уравнения:\n",
    "$$ a=XX^{-1}(X^T)^{-1}EX^Ty=X(X^TX)^{-1}X^Ty=Xw=a $$\n",
    "\n",
    "\n",
    "Как видно, значение предсказания $a$ не меняется, если умножать матрицу признаков на обратимую матрицу."
   ]
  },
  {
   "cell_type": "markdown",
   "metadata": {},
   "source": [
    "$$ w' = (P^T (X^T X) P)^{-1} P^T X^T y $$\n",
    "\n",
    "$$ w=P^{-1}(P^T(X^TX))^{-1}=((X^TX)P)^{-1}(P^T)^{-1}=P^{-1}(X^TX)^{-1}(P^T)^{-1} $$\n",
    "\n"
   ]
  },
  {
   "cell_type": "markdown",
   "metadata": {},
   "source": [
    "## Алгоритм преобразования"
   ]
  },
  {
   "cell_type": "markdown",
   "metadata": {},
   "source": [
    "**Обоснование**\n",
    "\n",
    "    1) Умножим матрицу признаков на 10.000\n",
    "    2) Вычтем из матрицы 100\n",
    "    3) Умножим на 7\n",
    "    4) Умножим на случайную обратимую матрицу A"
   ]
  },
  {
   "cell_type": "markdown",
   "metadata": {},
   "source": [
    "## Проверка алгоритма"
   ]
  },
  {
   "cell_type": "markdown",
   "metadata": {},
   "source": [
    "### Меняем данные"
   ]
  },
  {
   "cell_type": "code",
   "execution_count": 8,
   "metadata": {},
   "outputs": [
    {
     "data": {
      "text/html": [
       "<div>\n",
       "<style scoped>\n",
       "    .dataframe tbody tr th:only-of-type {\n",
       "        vertical-align: middle;\n",
       "    }\n",
       "\n",
       "    .dataframe tbody tr th {\n",
       "        vertical-align: top;\n",
       "    }\n",
       "\n",
       "    .dataframe thead th {\n",
       "        text-align: right;\n",
       "    }\n",
       "</style>\n",
       "<table border=\"1\" class=\"dataframe\">\n",
       "  <thead>\n",
       "    <tr style=\"text-align: right;\">\n",
       "      <th></th>\n",
       "      <th>0</th>\n",
       "      <th>1</th>\n",
       "      <th>2</th>\n",
       "      <th>3</th>\n",
       "    </tr>\n",
       "  </thead>\n",
       "  <tbody>\n",
       "    <tr>\n",
       "      <th>0</th>\n",
       "      <td>2.923976e+09</td>\n",
       "      <td>1.374197e+09</td>\n",
       "      <td>1.462551e+09</td>\n",
       "      <td>7.815230e+08</td>\n",
       "    </tr>\n",
       "    <tr>\n",
       "      <th>1</th>\n",
       "      <td>2.240878e+09</td>\n",
       "      <td>1.053204e+09</td>\n",
       "      <td>1.120916e+09</td>\n",
       "      <td>5.990301e+08</td>\n",
       "    </tr>\n",
       "    <tr>\n",
       "      <th>2</th>\n",
       "      <td>1.238542e+09</td>\n",
       "      <td>5.821163e+08</td>\n",
       "      <td>6.195443e+08</td>\n",
       "      <td>3.310783e+08</td>\n",
       "    </tr>\n",
       "    <tr>\n",
       "      <th>3</th>\n",
       "      <td>2.457550e+09</td>\n",
       "      <td>1.154987e+09</td>\n",
       "      <td>1.229175e+09</td>\n",
       "      <td>6.568045e+08</td>\n",
       "    </tr>\n",
       "    <tr>\n",
       "      <th>4</th>\n",
       "      <td>1.538969e+09</td>\n",
       "      <td>7.232761e+08</td>\n",
       "      <td>7.698175e+08</td>\n",
       "      <td>4.113651e+08</td>\n",
       "    </tr>\n",
       "  </tbody>\n",
       "</table>\n",
       "</div>"
      ],
      "text/plain": [
       "              0             1             2             3\n",
       "0  2.923976e+09  1.374197e+09  1.462551e+09  7.815230e+08\n",
       "1  2.240878e+09  1.053204e+09  1.120916e+09  5.990301e+08\n",
       "2  1.238542e+09  5.821163e+08  6.195443e+08  3.310783e+08\n",
       "3  2.457550e+09  1.154987e+09  1.229175e+09  6.568045e+08\n",
       "4  1.538969e+09  7.232761e+08  7.698175e+08  4.113651e+08"
      ]
     },
     "execution_count": 8,
     "metadata": {},
     "output_type": "execute_result"
    }
   ],
   "source": [
    "X_new = ((X*10000 - 100) * 7) @ INV\n",
    "\n",
    "X_new.head()"
   ]
  },
  {
   "cell_type": "code",
   "execution_count": 9,
   "metadata": {},
   "outputs": [
    {
     "data": {
      "text/plain": [
       "0.4249455028665623"
      ]
     },
     "execution_count": 9,
     "metadata": {},
     "output_type": "execute_result"
    }
   ],
   "source": [
    "predict_and_r2_score(X_new, y)"
   ]
  },
  {
   "cell_type": "markdown",
   "metadata": {},
   "source": [
    "## Вывод:"
   ]
  },
  {
   "cell_type": "markdown",
   "metadata": {},
   "source": [
    "В ходе работы было проделано:\n",
    "\n",
    "    1) Загружены и изучены данные.\n",
    "    2) Качество модели линейной регрессии почти никак не поменялось.\n",
    "    3) Создан алгоритм преобразования данных.\n",
    "    4) Исследован алгоритм преобразования данных и проверена метрика R2 для данных без преобразования и с ним."
   ]
  }
 ],
 "metadata": {
  "ExecuteTimeLog": [
   {
    "duration": 3,
    "start_time": "2023-04-12T09:22:55.504Z"
   },
   {
    "duration": 45,
    "start_time": "2023-04-12T09:23:01.678Z"
   },
   {
    "duration": 6,
    "start_time": "2023-04-12T09:25:29.901Z"
   },
   {
    "duration": 6,
    "start_time": "2023-04-12T09:32:41.544Z"
   },
   {
    "duration": 1265,
    "start_time": "2023-04-12T09:32:49.053Z"
   },
   {
    "duration": 44,
    "start_time": "2023-04-12T09:32:50.320Z"
   },
   {
    "duration": 8,
    "start_time": "2023-04-12T09:32:50.368Z"
   },
   {
    "duration": 48,
    "start_time": "2023-04-12T09:32:50.379Z"
   },
   {
    "duration": 5,
    "start_time": "2023-04-12T09:32:57.704Z"
   },
   {
    "duration": 1433,
    "start_time": "2023-04-12T09:33:04.659Z"
   },
   {
    "duration": 43,
    "start_time": "2023-04-12T09:33:06.094Z"
   },
   {
    "duration": 8,
    "start_time": "2023-04-12T09:33:06.140Z"
   },
   {
    "duration": 41,
    "start_time": "2023-04-12T09:33:06.151Z"
   },
   {
    "duration": 9,
    "start_time": "2023-04-12T09:33:13.305Z"
   },
   {
    "duration": 1224,
    "start_time": "2023-04-12T09:33:43.607Z"
   },
   {
    "duration": 43,
    "start_time": "2023-04-12T09:33:44.833Z"
   },
   {
    "duration": 6,
    "start_time": "2023-04-12T09:33:44.877Z"
   },
   {
    "duration": 23,
    "start_time": "2023-04-12T09:33:44.885Z"
   },
   {
    "duration": 1360,
    "start_time": "2023-04-12T09:34:14.707Z"
   },
   {
    "duration": 49,
    "start_time": "2023-04-12T09:34:16.069Z"
   },
   {
    "duration": 6,
    "start_time": "2023-04-12T09:34:16.120Z"
   },
   {
    "duration": 9,
    "start_time": "2023-04-12T09:34:16.128Z"
   },
   {
    "duration": 5,
    "start_time": "2023-04-12T09:34:48.998Z"
   },
   {
    "duration": 114,
    "start_time": "2023-04-12T09:35:43.233Z"
   },
   {
    "duration": 26,
    "start_time": "2023-04-12T09:35:55.588Z"
   },
   {
    "duration": 12,
    "start_time": "2023-04-12T09:43:32.229Z"
   },
   {
    "duration": 14,
    "start_time": "2023-04-12T09:43:42.012Z"
   },
   {
    "duration": 1166,
    "start_time": "2023-04-12T09:44:54.710Z"
   },
   {
    "duration": 57,
    "start_time": "2023-04-12T09:44:55.879Z"
   },
   {
    "duration": 8,
    "start_time": "2023-04-12T09:44:55.939Z"
   },
   {
    "duration": 9,
    "start_time": "2023-04-12T09:44:55.950Z"
   },
   {
    "duration": 58,
    "start_time": "2023-04-12T09:44:55.963Z"
   },
   {
    "duration": 96,
    "start_time": "2023-04-12T09:44:56.023Z"
   },
   {
    "duration": 115,
    "start_time": "2023-04-12T09:44:56.193Z"
   },
   {
    "duration": 1333,
    "start_time": "2023-04-12T09:55:29.287Z"
   },
   {
    "duration": 44,
    "start_time": "2023-04-12T09:55:30.623Z"
   },
   {
    "duration": 7,
    "start_time": "2023-04-12T09:55:30.669Z"
   },
   {
    "duration": 64,
    "start_time": "2023-04-12T09:55:30.678Z"
   },
   {
    "duration": 153,
    "start_time": "2023-04-12T09:55:30.745Z"
   },
   {
    "duration": 47,
    "start_time": "2023-04-12T09:55:30.900Z"
   },
   {
    "duration": 171,
    "start_time": "2023-04-12T09:55:30.951Z"
   },
   {
    "duration": 1118,
    "start_time": "2023-04-12T10:03:54.321Z"
   },
   {
    "duration": 59,
    "start_time": "2023-04-12T10:03:55.441Z"
   },
   {
    "duration": 7,
    "start_time": "2023-04-12T10:03:55.505Z"
   },
   {
    "duration": 17,
    "start_time": "2023-04-12T10:03:55.514Z"
   },
   {
    "duration": 6,
    "start_time": "2023-04-12T10:03:55.588Z"
   },
   {
    "duration": 107,
    "start_time": "2023-04-12T10:03:55.601Z"
   },
   {
    "duration": 200,
    "start_time": "2023-04-12T10:03:55.711Z"
   },
   {
    "duration": 30,
    "start_time": "2023-04-12T10:36:33.712Z"
   },
   {
    "duration": 16,
    "start_time": "2023-04-12T10:37:15.326Z"
   },
   {
    "duration": 1288,
    "start_time": "2023-04-12T10:39:14.086Z"
   },
   {
    "duration": 47,
    "start_time": "2023-04-12T10:39:15.376Z"
   },
   {
    "duration": 7,
    "start_time": "2023-04-12T10:39:15.424Z"
   },
   {
    "duration": 9,
    "start_time": "2023-04-12T10:39:15.434Z"
   },
   {
    "duration": 52,
    "start_time": "2023-04-12T10:39:15.445Z"
   },
   {
    "duration": 114,
    "start_time": "2023-04-12T10:39:15.500Z"
   },
   {
    "duration": 277,
    "start_time": "2023-04-12T10:39:15.616Z"
   },
   {
    "duration": 116,
    "start_time": "2023-04-12T10:39:15.895Z"
   },
   {
    "duration": 11,
    "start_time": "2023-04-12T10:39:16.013Z"
   },
   {
    "duration": 2448,
    "start_time": "2023-04-12T10:48:23.182Z"
   },
   {
    "duration": 109,
    "start_time": "2023-04-12T10:48:25.632Z"
   },
   {
    "duration": 5,
    "start_time": "2023-04-12T10:48:25.743Z"
   },
   {
    "duration": 7,
    "start_time": "2023-04-12T10:48:25.750Z"
   },
   {
    "duration": 3,
    "start_time": "2023-04-12T10:48:25.760Z"
   },
   {
    "duration": 61,
    "start_time": "2023-04-12T10:48:25.765Z"
   },
   {
    "duration": 101,
    "start_time": "2023-04-12T10:48:25.828Z"
   },
   {
    "duration": 181,
    "start_time": "2023-04-12T10:48:25.932Z"
   },
   {
    "duration": 21,
    "start_time": "2023-04-12T10:48:26.115Z"
   },
   {
    "duration": 1132,
    "start_time": "2023-04-14T12:13:10.478Z"
   },
   {
    "duration": 108,
    "start_time": "2023-04-14T12:13:11.612Z"
   },
   {
    "duration": 7,
    "start_time": "2023-04-14T12:13:11.721Z"
   },
   {
    "duration": 17,
    "start_time": "2023-04-14T12:13:11.730Z"
   },
   {
    "duration": 39,
    "start_time": "2023-04-14T12:13:11.750Z"
   },
   {
    "duration": 101,
    "start_time": "2023-04-14T12:13:11.792Z"
   },
   {
    "duration": 97,
    "start_time": "2023-04-14T12:13:11.895Z"
   },
   {
    "duration": 193,
    "start_time": "2023-04-14T12:13:11.995Z"
   },
   {
    "duration": 11,
    "start_time": "2023-04-14T12:13:12.189Z"
   },
   {
    "duration": 2192,
    "start_time": "2023-04-15T05:30:42.220Z"
   },
   {
    "duration": 47,
    "start_time": "2023-04-15T05:30:44.415Z"
   },
   {
    "duration": 7,
    "start_time": "2023-04-15T05:30:44.464Z"
   },
   {
    "duration": 14,
    "start_time": "2023-04-15T05:30:44.474Z"
   },
   {
    "duration": 83,
    "start_time": "2023-04-15T05:30:44.490Z"
   },
   {
    "duration": 95,
    "start_time": "2023-04-15T05:30:44.575Z"
   },
   {
    "duration": 184,
    "start_time": "2023-04-15T05:30:44.675Z"
   },
   {
    "duration": 109,
    "start_time": "2023-04-15T05:30:44.865Z"
   },
   {
    "duration": 9,
    "start_time": "2023-04-15T05:30:44.975Z"
   }
  ],
  "kernelspec": {
   "display_name": "Python 3 (ipykernel)",
   "language": "python",
   "name": "python3"
  },
  "language_info": {
   "codemirror_mode": {
    "name": "ipython",
    "version": 3
   },
   "file_extension": ".py",
   "mimetype": "text/x-python",
   "name": "python",
   "nbconvert_exporter": "python",
   "pygments_lexer": "ipython3",
   "version": "3.10.11"
  },
  "toc": {
   "base_numbering": 1,
   "nav_menu": {},
   "number_sections": true,
   "sideBar": true,
   "skip_h1_title": true,
   "title_cell": "Содержание",
   "title_sidebar": "Contents",
   "toc_cell": true,
   "toc_position": {
    "height": "calc(100% - 180px)",
    "left": "10px",
    "top": "150px",
    "width": "318.188px"
   },
   "toc_section_display": true,
   "toc_window_display": false
  }
 },
 "nbformat": 4,
 "nbformat_minor": 2
}
